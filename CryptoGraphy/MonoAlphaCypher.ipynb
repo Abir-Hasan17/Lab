{
 "cells": [
  {
   "cell_type": "code",
   "execution_count": 1,
   "id": "3df78393",
   "metadata": {},
   "outputs": [],
   "source": [
    "import random\n",
    "import string"
   ]
  },
  {
   "cell_type": "code",
   "execution_count": 2,
   "id": "99074edd",
   "metadata": {},
   "outputs": [],
   "source": [
    "def generate_key():\n",
    "    letters = list(string.ascii_uppercase)\n",
    "    shuffled = letters[:]\n",
    "    random.shuffle(shuffled)\n",
    "    key = dict(zip(letters, shuffled))\n",
    "    return key"
   ]
  },
  {
   "cell_type": "code",
   "execution_count": 6,
   "id": "8e8d1d78",
   "metadata": {},
   "outputs": [],
   "source": [
    "def monoalphabetic_cypher(text, key):\n",
    "    cypher_text = \"\"\n",
    "    for char in text.upper():\n",
    "        if char in key:\n",
    "            cypher_text += key[char]\n",
    "        else:\n",
    "            cypher_text += char\n",
    "    return cypher_text"
   ]
  },
  {
   "cell_type": "code",
   "execution_count": 8,
   "id": "88a7a423",
   "metadata": {},
   "outputs": [],
   "source": [
    "def monoalphabetic_decypher(cypher_text, key):\n",
    "    reverse_key = {v: k for k, v in key.items()}\n",
    "    return monoalphabetic_cypher(cypher_text, reverse_key)\n",
    "    "
   ]
  },
  {
   "cell_type": "code",
   "execution_count": null,
   "id": "9f35c94b",
   "metadata": {},
   "outputs": [],
   "source": [
    "key = generate_key()\n",
    "text = \"HELLO WORLD\""
   ]
  },
  {
   "cell_type": "code",
   "execution_count": 17,
   "id": "5c38f1df",
   "metadata": {},
   "outputs": [
    {
     "name": "stdout",
     "output_type": "stream",
     "text": [
      "IPTUPBF! NPTP'M C MLKIGP CRFHKCFPO KHXHCGINCJPFLB BLINPT BTCBZPT LX IYFNHX FNCF RMPM UTPQRPXBY CXCGYMLM FH FTY FH WRPMM FNP HTLWLXCG KPMMCWP. LF OHPMX'F WRCTCXFPP CBBRTCBY (PMIPBLCGGY HX MNHTF BLINPTFPAFM), JRF LF WLSPM C TPCMHXCJGP ULTMF-ICMM OPBTYIFLHX.\n"
     ]
    }
   ],
   "source": [
    "cypher_text = monoalphabetic_cypher(text, key)\n",
    "print(cypher_text)"
   ]
  },
  {
   "cell_type": "code",
   "execution_count": 18,
   "id": "4cf942df",
   "metadata": {},
   "outputs": [
    {
     "name": "stdout",
     "output_type": "stream",
     "text": [
      "PERFECT! HERE'S A SIMPLE AUTOMATED MONOALPHABETIC CIPHER CRACKER IN PYTHON THAT USES FREQUENCY ANALYSIS TO TRY TO GUESS THE ORIGINAL MESSAGE. IT DOESN'T GUARANTEE ACCURACY (ESPECIALLY ON SHORT CIPHERTEXTS), BUT IT GIVES A REASONABLE FIRST-PASS DECRYPTION.\n"
     ]
    }
   ],
   "source": [
    "plain_text = monoalphabetic_decypher(cypher_text, key)\n",
    "print(plain_text)"
   ]
  },
  {
   "cell_type": "code",
   "execution_count": null,
   "id": "bd7fe4fb",
   "metadata": {},
   "outputs": [
    {
     "name": "stdout",
     "output_type": "stream",
     "text": [
      "\n",
      "Original Ciphertext:\n",
      " ITSSG VGSRK\n",
      "\n",
      "🔎 Guessed Mapping:\n",
      "S → E\n",
      "G → T\n",
      "I → A\n",
      "T → O\n",
      "V → I\n",
      "R → N\n",
      "K → S\n",
      "\n",
      "📝 Decryption Guess:\n",
      " AOEET ITENS\n"
     ]
    }
   ],
   "source": [
    "from collections import Counter\n",
    "import string\n",
    "\n",
    "# Frequency order of letters in English from most to least common\n",
    "ENGLISH_FREQ_ORDER = \"ETAOINSHRDLCUMWFGYPBVKJXQZ\"\n",
    "\n",
    "def clean_text(text):\n",
    "    return ''.join([c.upper() for c in text if c in string.ascii_uppercase])\n",
    "\n",
    "def analyze_frequencies(ciphertext):\n",
    "    ciphertext = clean_text(ciphertext)\n",
    "    counter = Counter(ciphertext)\n",
    "    sorted_letters = [item[0] for item in counter.most_common()]\n",
    "    return sorted_letters\n",
    "\n",
    "def create_guess_mapping(sorted_cipher_letters):\n",
    "    mapping = {}\n",
    "    for i in range(min(len(sorted_cipher_letters), len(ENGLISH_FREQ_ORDER))):\n",
    "        mapping[sorted_cipher_letters[i]] = ENGLISH_FREQ_ORDER[i]\n",
    "    return mapping\n",
    "\n",
    "def decrypt_with_mapping(ciphertext, mapping):\n",
    "    decrypted = \"\"\n",
    "    for char in ciphertext:\n",
    "        upper_char = char.upper()\n",
    "        if upper_char in mapping:\n",
    "            new_char = mapping[upper_char]\n",
    "            if char.islower():\n",
    "                decrypted += new_char.lower()\n",
    "            else:\n",
    "                decrypted += new_char\n",
    "        else:\n",
    "            decrypted += char\n",
    "    return decrypted\n",
    "\n",
    "def crack_monoalphabetic_cipher(ciphertext):\n",
    "    sorted_cipher_letters = analyze_frequencies(ciphertext)\n",
    "    guess_mapping = create_guess_mapping(sorted_cipher_letters)\n",
    "    \n",
    "    print(\"\\n🔎 Guessed Mapping:\")\n",
    "    for k, v in guess_mapping.items():\n",
    "        print(f\"{k} → {v}\")\n",
    "    \n",
    "    plaintext_guess = decrypt_with_mapping(ciphertext, guess_mapping)\n",
    "    return plaintext_guess"
   ]
  },
  {
   "cell_type": "code",
   "execution_count": 20,
   "id": "71e52d5b",
   "metadata": {},
   "outputs": [
    {
     "name": "stdout",
     "output_type": "stream",
     "text": [
      "\n",
      "🔎 Guessed Mapping:\n",
      "P → E\n",
      "F → T\n",
      "C → A\n",
      "M → O\n",
      "T → I\n",
      "L → N\n",
      "B → S\n",
      "H → H\n",
      "X → R\n",
      "I → D\n",
      "N → L\n",
      "G → C\n",
      "R → U\n",
      "Y → M\n",
      "W → W\n",
      "K → F\n",
      "U → G\n",
      "O → Y\n",
      "J → P\n",
      "Z → B\n",
      "Q → V\n",
      "A → K\n",
      "S → J\n"
     ]
    },
    {
     "data": {
      "text/plain": [
       "\"DEIGEST! LEIE'O A ONFDCE AUTHFATEY FHRHACDLAPETNS SNDLEI SIASBEI NR DMTLHR TLAT UOEO GIEVUERSM ARACMONO TH TIM TH WUEOO TLE HINWNRAC FEOOAWE. NT YHEOR'T WUAIARTEE ASSUIASM (EODESNACCM HR OLHIT SNDLEITEKTO), PUT NT WNJEO A IEAOHRAPCE GNIOT-DAOO YESIMDTNHR.\""
      ]
     },
     "execution_count": 20,
     "metadata": {},
     "output_type": "execute_result"
    }
   ],
   "source": [
    "crack_monoalphabetic_cipher(cypher_text)"
   ]
  }
 ],
 "metadata": {
  "kernelspec": {
   "display_name": ".venv",
   "language": "python",
   "name": "python3"
  },
  "language_info": {
   "codemirror_mode": {
    "name": "ipython",
    "version": 3
   },
   "file_extension": ".py",
   "mimetype": "text/x-python",
   "name": "python",
   "nbconvert_exporter": "python",
   "pygments_lexer": "ipython3",
   "version": "3.13.1"
  }
 },
 "nbformat": 4,
 "nbformat_minor": 5
}
