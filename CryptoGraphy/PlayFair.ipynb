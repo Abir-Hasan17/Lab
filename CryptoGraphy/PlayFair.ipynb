{
 "cells": [
  {
   "cell_type": "code",
   "execution_count": 1,
   "id": "2ecf7df0",
   "metadata": {},
   "outputs": [],
   "source": [
    "import string\n"
   ]
  },
  {
   "cell_type": "code",
   "execution_count": 34,
   "id": "a6c6bece",
   "metadata": {},
   "outputs": [],
   "source": [
    "def generate_key_matrix(key):\n",
    "    key = key.replace(\"I\", \"J\")\n",
    "    added = set()\n",
    "    matrix = []\n",
    "    for char in key.upper():\n",
    "        if char not in added:\n",
    "            added.add(char)\n",
    "            matrix.append(char)\n",
    "    \n",
    "    for char in string.ascii_uppercase:\n",
    "        if char not in added:\n",
    "            added.add(char)\n",
    "            matrix.append(char)\n",
    "\n",
    "    return [matrix[i:i+5] for i in range(0, 25, 5)]"
   ]
  },
  {
   "cell_type": "code",
   "execution_count": 14,
   "id": "61a3b523",
   "metadata": {},
   "outputs": [],
   "source": [
    "def pre_process(text):\n",
    "    text = text.upper().replace(\"I\", \"J\")\n",
    "    text = ''.join(filter(str.isalpha, text))\n",
    "    for i in range(len(text) - 1):\n",
    "        if text[i] == text[i + 1]:\n",
    "            text = text[:i + 1] + 'X' + text[i + 1:]\n",
    "    if len(text) % 2 != 0:\n",
    "        text += 'X'\n",
    "    return text"
   ]
  },
  {
   "cell_type": "code",
   "execution_count": 20,
   "id": "1ca59fa1",
   "metadata": {},
   "outputs": [],
   "source": [
    "def find_position(matrix, char):\n",
    "    for i in range(5):\n",
    "        for j in range(5):\n",
    "            if matrix[i][j] == char:\n",
    "                return i, j\n",
    "    return None, None"
   ]
  },
  {
   "cell_type": "code",
   "execution_count": 28,
   "id": "16ff4c1d",
   "metadata": {},
   "outputs": [],
   "source": [
    "def encrypt_decrypt(matrix, a, b, ed):\n",
    "    row_a, col_a = find_position(matrix, a)\n",
    "    row_b, col_b = find_position(matrix, b)\n",
    "    # print(f\"Positions: {a} at ({row_a}, {col_a}), {b} at ({row_b}, {col_b})\")\n",
    "    if row_a == row_b:\n",
    "        return matrix[row_a][(col_a + ed) % 5] + matrix[row_b][(col_b + ed) % 5]\n",
    "    elif col_a == col_b:\n",
    "        return matrix[(row_a + ed) % 5][col_a] + matrix[(row_b + ed) % 5][col_b]\n",
    "    else:\n",
    "        return matrix[row_a][col_b] + matrix[row_b][col_a]"
   ]
  },
  {
   "cell_type": "code",
   "execution_count": 30,
   "id": "6a393e2d",
   "metadata": {},
   "outputs": [],
   "source": [
    "def playfair_encrypt(text, key):\n",
    "    matrix = generate_key_matrix(key)\n",
    "    text = pre_process(text)\n",
    "    cyphertext = ''\n",
    "    for i in range(0, len(text), 2):\n",
    "        a, b = text[i], text[i+1]\n",
    "        # print(f\"Encrypting pair: {a}, {b}\")\n",
    "        cyphertext += encrypt_decrypt(matrix, a, b, 1)\n",
    "    return cyphertext\n"
   ]
  },
  {
   "cell_type": "code",
   "execution_count": 21,
   "id": "70342866",
   "metadata": {},
   "outputs": [],
   "source": [
    "def playfair_decrypt(text, key):\n",
    "    matrix = generate_key_matrix(key)\n",
    "    plaintext = ''\n",
    "    for i in range(0, len(text), 2):\n",
    "        a, b = text[i], text[i+1]\n",
    "        plaintext += encrypt_decrypt(matrix, a, b, -1)\n",
    "    return plaintext\n"
   ]
  },
  {
   "cell_type": "code",
   "execution_count": 36,
   "id": "cde41399",
   "metadata": {},
   "outputs": [
    {
     "name": "stdout",
     "output_type": "stream",
     "text": [
      "Original Text: HIDE THE GOLD IN THE TREE STUMP\n",
      "Encrypted: EBJKVEGHNAJRMUIGUJKTKMUVTJ\n",
      "Decrypted: HJDETHEGOLDJNTHETREXESTUMP\n"
     ]
    }
   ],
   "source": [
    "key = \"PLAYFAIR\"\n",
    "text = \"HIDE THE GOLD IN THE TREE STUMP\"\n",
    "print(\"Original Text:\", text)\n",
    "cyphertext = playfair_encrypt(text, key)\n",
    "print(\"Encrypted:\", cyphertext)\n",
    "plaintext = playfair_decrypt(cyphertext, key)\n",
    "print(\"Decrypted:\", plaintext)\n"
   ]
  }
 ],
 "metadata": {
  "kernelspec": {
   "display_name": ".venv",
   "language": "python",
   "name": "python3"
  },
  "language_info": {
   "codemirror_mode": {
    "name": "ipython",
    "version": 3
   },
   "file_extension": ".py",
   "mimetype": "text/x-python",
   "name": "python",
   "nbconvert_exporter": "python",
   "pygments_lexer": "ipython3",
   "version": "3.13.1"
  }
 },
 "nbformat": 4,
 "nbformat_minor": 5
}
