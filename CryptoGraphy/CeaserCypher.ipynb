{
 "cells": [
  {
   "cell_type": "markdown",
   "id": "05076c2c",
   "metadata": {},
   "source": [
    "### Caesar Ciphering"
   ]
  },
  {
   "cell_type": "code",
   "execution_count": 2,
   "id": "d5620e4d",
   "metadata": {},
   "outputs": [],
   "source": [
    "def caesar_cipher(text, key):\n",
    "    cypher_text = \"\"\n",
    "    for char in text:\n",
    "        if char.isalpha():\n",
    "            base = ord('A') if char.isupper() else ord('a')\n",
    "            cypher_text += chr((ord(char) - base + key) % 26 + base)\n",
    "        else:\n",
    "            cypher_text += char\n",
    "    return cypher_text"
   ]
  },
  {
   "cell_type": "code",
   "execution_count": 3,
   "id": "27fdc341",
   "metadata": {},
   "outputs": [],
   "source": [
    "def caesar_decipher(text, key):\n",
    "    return caesar_cipher(text, -key)"
   ]
  },
  {
   "cell_type": "code",
   "execution_count": 8,
   "id": "659d0afb",
   "metadata": {},
   "outputs": [
    {
     "name": "stdout",
     "output_type": "stream",
     "text": [
      "Original Text: Hello, World!\n",
      "Cypher Text: Khoor, Zruog!\n",
      "Plain Text: Hello, World!\n"
     ]
    }
   ],
   "source": [
    "text = \"Hello, World!\"\n",
    "key = 3\n",
    "\n",
    "cypher_text = caesar_cipher(text, key)\n",
    "plain_text = caesar_decipher(cypher_text, key)\n",
    "\n",
    "print(\"Original Text:\", text)\n",
    "print(\"Cypher Text:\", cypher_text)\n",
    "print(\"Plain Text:\", plain_text)"
   ]
  },
  {
   "cell_type": "markdown",
   "id": "b0685c50",
   "metadata": {},
   "source": [
    "### Cryptanalysis for Ceaser Cypher"
   ]
  },
  {
   "cell_type": "code",
   "execution_count": 12,
   "id": "a86e5bd8",
   "metadata": {},
   "outputs": [],
   "source": [
    "def caesar_brute_force(cipher_text):\n",
    "    for key in range(1, 26):\n",
    "        decrypted = caesar_decipher(cipher_text, key)\n",
    "        print(f\"Key {key}: {decrypted}\")"
   ]
  },
  {
   "cell_type": "code",
   "execution_count": 13,
   "id": "2fddfc43",
   "metadata": {},
   "outputs": [
    {
     "name": "stdout",
     "output_type": "stream",
     "text": [
      "Key 1: Jgnnq, Yqtnf!\n",
      "Key 2: Ifmmp, Xpsme!\n",
      "Key 3: Hello, World!\n",
      "Key 4: Gdkkn, Vnqkc!\n",
      "Key 5: Fcjjm, Umpjb!\n",
      "Key 6: Ebiil, Tloia!\n",
      "Key 7: Dahhk, Sknhz!\n",
      "Key 8: Czggj, Rjmgy!\n",
      "Key 9: Byffi, Qilfx!\n",
      "Key 10: Axeeh, Phkew!\n",
      "Key 11: Zwddg, Ogjdv!\n",
      "Key 12: Yvccf, Nficu!\n",
      "Key 13: Xubbe, Mehbt!\n",
      "Key 14: Wtaad, Ldgas!\n",
      "Key 15: Vszzc, Kcfzr!\n",
      "Key 16: Uryyb, Jbeyq!\n",
      "Key 17: Tqxxa, Iadxp!\n",
      "Key 18: Spwwz, Hzcwo!\n",
      "Key 19: Rovvy, Gybvn!\n",
      "Key 20: Qnuux, Fxaum!\n",
      "Key 21: Pmttw, Ewztl!\n",
      "Key 22: Olssv, Dvysk!\n",
      "Key 23: Nkrru, Cuxrj!\n",
      "Key 24: Mjqqt, Btwqi!\n",
      "Key 25: Lipps, Asvph!\n"
     ]
    }
   ],
   "source": [
    "caesar_brute_force(cypher_text)"
   ]
  }
 ],
 "metadata": {
  "kernelspec": {
   "display_name": ".venv",
   "language": "python",
   "name": "python3"
  },
  "language_info": {
   "codemirror_mode": {
    "name": "ipython",
    "version": 3
   },
   "file_extension": ".py",
   "mimetype": "text/x-python",
   "name": "python",
   "nbconvert_exporter": "python",
   "pygments_lexer": "ipython3",
   "version": "3.13.1"
  }
 },
 "nbformat": 4,
 "nbformat_minor": 5
}
