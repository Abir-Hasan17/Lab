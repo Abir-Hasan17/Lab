{
 "cells": [
  {
   "cell_type": "code",
   "execution_count": 1,
   "id": "3dd86253",
   "metadata": {},
   "outputs": [],
   "source": [
    "import math as mth\n",
    "import random"
   ]
  },
  {
   "cell_type": "code",
   "execution_count": 15,
   "id": "204cc321",
   "metadata": {},
   "outputs": [],
   "source": [
    "def modular_inverse(a, m):\n",
    "    m0, x0, x1 = m, 0, 1\n",
    "    while a > 1:\n",
    "        q = a // m\n",
    "        a, m = m, a % m\n",
    "        x0, x1 = x1 - q * x0, x0\n",
    "    return x1 % m0\n"
   ]
  },
  {
   "cell_type": "code",
   "execution_count": null,
   "id": "dc22b51d",
   "metadata": {},
   "outputs": [],
   "source": [
    "def generate_key(p, q):\n",
    "    n = p*q\n",
    "    phi = (p-1) * (q-1)\n",
    "\n",
    "\n",
    "    print(\"finding key\", end=\"\")\n",
    "    while True:\n",
    "        print(\".\", end=\"\")\n",
    "        e = random.randint(2, phi - 1) # Public key\n",
    "        if mth.gcd(e, phi) != 1:\n",
    "            continue\n",
    "        d = modular_inverse(e, phi) # Private key\n",
    "        if e != d:\n",
    "            break\n",
    "    \n",
    "    return (e, n), (d, n)"
   ]
  },
  {
   "cell_type": "code",
   "execution_count": 85,
   "id": "f4ada62d",
   "metadata": {},
   "outputs": [],
   "source": [
    "## alternate to pow(data, k, n) function.\n",
    "def mod_exp(base, exponent, modulus):\n",
    "    result = 1\n",
    "    base = base % modulus\n",
    "\n",
    "    while exponent > 0:\n",
    "        if exponent % 2 == 1:\n",
    "            result = (result * base) % modulus\n",
    "        base = (base * base) % modulus\n",
    "        exponent = exponent // 2\n",
    "\n",
    "    return result"
   ]
  },
  {
   "cell_type": "code",
   "execution_count": 87,
   "id": "042c986c",
   "metadata": {},
   "outputs": [],
   "source": [
    "def rsa_encrypt_dycrypt(data, key):\n",
    "    k, n = key\n",
    "    return pow(data, k, n)\n"
   ]
  },
  {
   "cell_type": "code",
   "execution_count": 160,
   "id": "e8d681c8",
   "metadata": {},
   "outputs": [],
   "source": [
    "def rsa_text_encrypt(text, key):\n",
    "    encrypted_text = []\n",
    "    for char in text:\n",
    "        encrypted_char = rsa_encrypt_dycrypt(ord(char), key)\n",
    "        encrypted_text.append(str(encrypted_char))\n",
    "    encrypted_text = \" \".join(encrypted_text)\n",
    "    return encrypted_text"
   ]
  },
  {
   "cell_type": "code",
   "execution_count": 158,
   "id": "44193899",
   "metadata": {},
   "outputs": [],
   "source": [
    "def rsa_text_dycrypt(cypher_text, key):\n",
    "    decrypted_text = \"\"\n",
    "    cypher_text = cypher_text.split(\" \")\n",
    "    for char in cypher_text:\n",
    "        decrypted_char = rsa_encrypt_dycrypt(int(char), key)\n",
    "        decrypted_text += chr(decrypted_char)\n",
    "    return decrypted_text"
   ]
  },
  {
   "cell_type": "code",
   "execution_count": 195,
   "id": "e16ce779",
   "metadata": {},
   "outputs": [
    {
     "name": "stdout",
     "output_type": "stream",
     "text": [
      "finding key.Public Key: (190252723, 557613713)\n",
      "Private Key: (289368187, 557613713)\n"
     ]
    }
   ],
   "source": [
    "public_key, private_key = generate_key(53777, 10369)\n",
    "print(\"Public Key:\", public_key)\n",
    "print(\"Private Key:\", private_key)"
   ]
  },
  {
   "cell_type": "code",
   "execution_count": 93,
   "id": "4d2c9107",
   "metadata": {},
   "outputs": [
    {
     "name": "stdout",
     "output_type": "stream",
     "text": [
      "Encrypted Data: 1401\n",
      "Decrypted Data: 30\n"
     ]
    }
   ],
   "source": [
    "data = 30\n",
    "encrypted_data = rsa_encrypt_dycrypt(data, public_key)\n",
    "print(\"Encrypted Data:\", encrypted_data)\n",
    "decrypted_data = rsa_encrypt_dycrypt(encrypted_data, private_key)\n",
    "print(\"Decrypted Data:\", decrypted_data)"
   ]
  },
  {
   "cell_type": "code",
   "execution_count": 165,
   "id": "6b474b2d",
   "metadata": {},
   "outputs": [
    {
     "name": "stdout",
     "output_type": "stream",
     "text": [
      "Encrypted Text: 454982915 238903289 223561204 223561204 243916838 181204919 274068552 243916838 147434616 223561204 125408249\n",
      "Decrypted Text: hello world\n"
     ]
    }
   ],
   "source": [
    "text = \"hello world\"\n",
    "cypher_text = rsa_text_encrypt(text, public_key)\n",
    "print(\"Encrypted Text:\", cypher_text)\n",
    "plain_text = rsa_text_dycrypt(cypher_text, private_key)\n",
    "print(\"Decrypted Text:\", plain_text)"
   ]
  }
 ],
 "metadata": {
  "kernelspec": {
   "display_name": ".venv",
   "language": "python",
   "name": "python3"
  },
  "language_info": {
   "codemirror_mode": {
    "name": "ipython",
    "version": 3
   },
   "file_extension": ".py",
   "mimetype": "text/x-python",
   "name": "python",
   "nbconvert_exporter": "python",
   "pygments_lexer": "ipython3",
   "version": "3.13.1"
  }
 },
 "nbformat": 4,
 "nbformat_minor": 5
}
